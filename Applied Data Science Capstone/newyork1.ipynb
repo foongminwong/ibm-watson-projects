{
    "cells": [
        {
            "cell_type": "markdown",
            "metadata": {
                "collapsed": true
            },
            "source": "## The Battle of the Neighborhoods"
        },
        {
            "cell_type": "markdown",
            "metadata": {},
            "source": "### Introduction"
        },
        {
            "cell_type": "markdown",
            "metadata": {},
            "source": "New York City is one of the most biggest cities in the United States. The city is full of multicultral cuisines served by a diverse array of restaurants/hawkers stalls. If someone is looking to open a restaurant, New York City will be a one of the great spots as it is a major center for multiverse food and tourism."
        },
        {
            "cell_type": "markdown",
            "metadata": {},
            "source": "### Business Problem "
        },
        {
            "cell_type": "markdown",
            "metadata": {},
            "source": "As a global hub serving a multi-variety of cuisines and cultures, New York City restaurant market can be highly competitive. Therefore, we need do some analysis to make sure that it is reasonable to open a restaurant in such a famous city."
        },
        {
            "cell_type": "markdown",
            "metadata": {},
            "source": "### Data"
        },
        {
            "cell_type": "markdown",
            "metadata": {},
            "source": "We will be analysing New City datasets."
        },
        {
            "cell_type": "markdown",
            "metadata": {},
            "source": "***Data 1 :*** New York City neighborhood has a total of 5 boroughs and 306 neighborhoods. The dataset can be found in https://geo.nyu.edu/catalog/nyu_2451_34572"
        },
        {
            "cell_type": "code",
            "execution_count": null,
            "metadata": {},
            "outputs": [],
            "source": ""
        },
        {
            "cell_type": "code",
            "execution_count": null,
            "metadata": {},
            "outputs": [],
            "source": ""
        }
    ],
    "metadata": {
        "kernelspec": {
            "display_name": "Python 3.6",
            "language": "python",
            "name": "python3"
        },
        "language_info": {
            "codemirror_mode": {
                "name": "ipython",
                "version": 3
            },
            "file_extension": ".py",
            "mimetype": "text/x-python",
            "name": "python",
            "nbconvert_exporter": "python",
            "pygments_lexer": "ipython3",
            "version": "3.6.9"
        }
    },
    "nbformat": 4,
    "nbformat_minor": 1
}